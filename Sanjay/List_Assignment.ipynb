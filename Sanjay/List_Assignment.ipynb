{
 "cells": [
  {
   "cell_type": "code",
   "execution_count": null,
   "metadata": {
    "id": "gtlAv2oq9yzd"
   },
   "outputs": [],
   "source": [
    "#Write a Python program to find the sum of all elements in a list using loop.\n",
    "#Input:- [10,20,30,40]\n",
    "#Output:- 100\n",
    "\n",
    "lst=[10,20,30,40]\n",
    "add=0\n",
    "for i in lst:\n",
    "    add=add+i\n",
    "print(add)    \n"
   ]
  },
  {
   "cell_type": "code",
   "execution_count": null,
   "metadata": {
    "id": "gTbA8psa93Y_"
   },
   "outputs": [],
   "source": [
    "#Write a Python program to find the multiplication of all elements in a list using loop.\n",
    "#Input:- [10,20,30,40]\n",
    "#Output:- 240000\n",
    "lst=[10,20,30,40]\n",
    "mul=1\n",
    "for i in lst:\n",
    "    mul=mul*i\n",
    "print(mul)\n",
    "\n"
   ]
  },
  {
   "cell_type": "code",
   "execution_count": null,
   "metadata": {
    "id": "XBCrEtLN94Lj"
   },
   "outputs": [],
   "source": [
    "#Write a Python program to find the largest number from a list using loop.\n",
    "#Input:- [10,100,2321, 1,200,2]\n",
    "#Output:- 2321\n",
    "\n",
    "lst=[10,100,2321,1,200,2]\n",
    "largest=0\n",
    "for i in lst:\n",
    "    if i>largest:\n",
    "        largest=i\n",
    "print(largest)"
   ]
  },
  {
   "cell_type": "code",
   "execution_count": null,
   "metadata": {
    "id": "l3paUtbH94Vw"
   },
   "outputs": [],
   "source": [
    "#Write a Python program to find the smallest number from a list using loop.\n",
    "#Input:- [10,100,2321, 1,200,2]\n",
    "#Output:- 1\n",
    "lst=[10,100,2321,1,200,2]\n",
    "smallest=float(\"inf\")\n",
    "for i in lst:\n",
    "    if i<smallest:\n",
    "        smallest=i\n",
    "print(smallest)\n",
    "\n"
   ]
  },
  {
   "cell_type": "code",
   "execution_count": null,
   "metadata": {
    "id": "JTVgy5VD94cE"
   },
   "outputs": [],
   "source": [
    "#Write a Python program to count the number of strings having length more than 2 and are palindrome in a list using loop.\n",
    "#Input:- ['ab', 'abc', 'aba', 'xyz', '1991']\n",
    "#Output:- 2\n",
    "lst=['ab', 'abc', 'aba', 'xyz', '1991']\n",
    "count=0\n",
    "for i in lst:\n",
    "    if len(i)>2:\n",
    "        if i[: : 1]==i[: :-1]:\n",
    "            count=count+1\n",
    "print(count)"
   ]
  },
  {
   "cell_type": "code",
   "execution_count": null,
   "metadata": {
    "id": "xs-ZGJbJ94gr"
   },
   "outputs": [],
   "source": [
    "#Write a Python program to sort a list in ascending order using loop.\n",
    "#Input:- [100,10,1,298,65,483,49876,2,80,9,9213]\n",
    "#Output:- [1,2,9,10,65,80,100,298,483,9213,49876]\n",
    "lst=[100,10,1,298,65,483,49876,2,80,9,9213]\n",
    "for i in range(len(lst)-1):\n",
    "    for j in range(len(lst)-i-1):\n",
    "        if lst[j]>lst[j+1]:\n",
    "            lst[j],lst[j+1]=lst[j+1],lst[j]\n",
    "            \n",
    "        \n",
    "print(lst)"
   ]
  },
  {
   "cell_type": "code",
   "execution_count": null,
   "metadata": {
    "id": "VhKQJizZ94kg"
   },
   "outputs": [],
   "source": [
    "#Write a Python program to get a sorted list in increasing order of last element in each tuple in a given list using loop.\n",
    "#Input:- [(5,4),(9,1),(2,3),(5,9),(7,6),(5,5)]\n",
    "#output:- [(9,1),(2,3),(5,4),(5,5),(7,6),(5,9)]\n",
    "\n",
    "lst=[(5,4),(9,1),(2,3),(5,9),(7,6),(5,5)]\n",
    "\n",
    "for i in range(len(lst)-1):\n",
    "    for j in range(len(lst)-i-1):\n",
    "        if (lst[j][1]>lst[j+1][1]):\n",
    "            lst[j],lst[j+1]=lst[j+1],lst[j]\n",
    "\n",
    "print(lst)            "
   ]
  },
  {
   "cell_type": "code",
   "execution_count": null,
   "metadata": {
    "id": "YJrCLYp694n_"
   },
   "outputs": [],
   "source": [
    "#Write a Python program to remove fuplicate element from a list using loop.\n",
    "#Input:- [10,1,11,1,29,876,768,10,11,1,92,29,876]\n",
    "#Output:- [10,1,11,29,876,768,92]\n",
    "lst=[10,1,11,1,29,876,768,10,11,1,92,29,876]\n",
    "lst1=[]\n",
    "for i in lst:\n",
    "    if i not in lst1:\n",
    "        lst1.append(i)\n",
    "print(lst1)       "
   ]
  },
  {
   "cell_type": "code",
   "execution_count": null,
   "metadata": {
    "id": "koYe4YCu94rh"
   },
   "outputs": [],
   "source": [
    "#Write a Python program to check a list is empty or not?\n",
    "#Input:- []\n",
    "#Output:- List is empty\n",
    "#Input:- [10,20,30]\n",
    "#Output:- List is not empty\n",
    "lst=[]\n",
    "lst1=[10,20,30]\n",
    "if len(lst)<1:\n",
    "    print(\"List is empty\")\n",
    "if len(lst1)>1:\n",
    "    print(\"List is not empty\")"
   ]
  },
  {
   "cell_type": "code",
   "execution_count": null,
   "metadata": {
    "id": "mES1WANa94u5"
   },
   "outputs": [],
   "source": [
    "#Write a Python program to copy a list using loop.\n",
    "#inp_lst = [10,10.20,10+20j, 'Python', [10,20], (10,20)]\n",
    "#out_lst = [10,10.20,10+20j, 'Python', [10,20], (10,20)]\n",
    "inp_lst = [10,10.20,10+20j, 'Python', [10,20], (10,20)]\n",
    "out_lst=[]\n",
    "for i in inp_lst:\n",
    "    out_lst.append(i)\n",
    "print(out_lst)"
   ]
  },
  {
   "cell_type": "code",
   "execution_count": null,
   "metadata": {
    "id": "CpBh31WO94yi"
   },
   "outputs": [],
   "source": [
    "#Write a Python program to find the list of words that are longer than or equal to 4 from a given string.\n",
    "#Input:- 'How much wood would a woodchuck chuck if a woodchuck could chuck wood'\n",
    "#Output:- ['much', 'wood', 'would', 'woodchuck', 'chuck', 'could']\n",
    "#Note:- Duplicate should be avoided.\n",
    "\n",
    "str1='How much wood would a woodchuck chuck if a woodchuck could chuck wood'\n",
    "lst=[]\n",
    "for i in str1.split():\n",
    "    if len(i)>=4 and i not in lst:\n",
    "        lst.append(i)\n",
    "print(lst)"
   ]
  },
  {
   "cell_type": "code",
   "execution_count": null,
   "metadata": {
    "id": "YVfj0fgZ9416"
   },
   "outputs": [],
   "source": [
    "#Write a Python program which takes two list as input and returns True if they have at least 3 common elements.\n",
    "#inp_lst1 = [10,20,'Python', 10.20, 10+20j, [10,20,30], (10,20,30)]\n",
    "#inp_lst2 = [(10,20,30),1,20+3j,100.2, 10+20j, [10,20,30],'Python']\n",
    "#Output:- True\n",
    "inp_lst1 = [10,20,'Python', 10.20, 10+20j, [10,20,30], (10,20,30)]\n",
    "inp_lst2 = [(10,20,30),1,20+3j,100.2, 10+20j, [10,20,30],'Python']\n",
    "count=0\n",
    "for i in inp_lst1:\n",
    "    for j in inp_lst2:\n",
    "        if i==j:\n",
    "            count=count+1\n",
    "if count>=3:\n",
    "    print(\"True\")\n",
    "else:\n",
    "    print(\"False\")"
   ]
  },
  {
   "cell_type": "code",
   "execution_count": null,
   "metadata": {
    "id": "7vwc3pjR945O"
   },
   "outputs": [],
   "source": [
    "#Write a Python program to create a 4X4 2D matrix with below elements using loop and list comprehension both.\n",
    "#Output:- [[0,0,0,0],[0,1,2,3],[0,2,4,6],[0,3,6,9]]\n",
    "#using loop\n",
    "lst1=[]\n",
    "for i in range(4):\n",
    "    lst=[]\n",
    "    for j in range(4):\n",
    "        lst.append(i*j)       \n",
    "    lst1.append(lst) \n",
    "print(lst1)\n",
    "#using list comprehension\n",
    "print([[i*j for j in range(4)] for i in range(4)])"
   ]
  },
  {
   "cell_type": "code",
   "execution_count": null,
   "metadata": {
    "id": "Pxafor84948b"
   },
   "outputs": [],
   "source": [
    "#Write a Python program to create a 3X4X6 3D matrix wiith below elements using loop\n",
    "#Output:- \n",
    "# [\n",
    "#     [[0,0,0,0,0,0],[0,0,0,0,0,0],[0,0,0,0,0,0],[0,0,0,0,0,0]],\n",
    "#     [[0,0,0,0,0,0],[1,1,1,1,1,1],[2,2,2,2,2,2],[3,3,3,3,3,3]],\n",
    "#     [[0,0,0,0,0,0],[2,2,2,2,2,2],[4,4,4,4,4,4],[6,6,6,6,6,6]]\n",
    "# ]\n",
    "#loop\n",
    "lst=[]\n",
    "for i in range(3):\n",
    "    lst1=[]\n",
    "    for j in range(4):\n",
    "        lst1.append([i*j for k in range(6)])\n",
    "    lst.append(lst1)    \n",
    "print(lst)\n",
    "#list comprehension\n",
    "[[[i*j for k in range(6)] for j in range(4)] for i in range(3)]"
   ]
  },
  {
   "cell_type": "code",
   "execution_count": null,
   "metadata": {
    "id": "lYNv8gk794_p"
   },
   "outputs": [],
   "source": [
    "#Write a Python program which takes a list of numbers as input and prints a new list after removing even numbers from it.\n",
    "#Input:- [10,21,22,98,87,45,33,1,2,100]\n",
    "#Output:- [21,87,45,33,1]\n",
    "\n",
    "lst=[10,21,22,98,87,45,33,1,2,100]\n",
    "print([e for e in lst if e%2!=0])"
   ]
  },
  {
   "cell_type": "code",
   "execution_count": null,
   "metadata": {
    "id": "3BaCb-rB95B7"
   },
   "outputs": [],
   "source": [
    "#Write a Python program which takes a list from the user and prints it after reshuffling the elements of the list.\n",
    "#Input:- [10,21,22,98,87,45,33,1,2,100]\n",
    "#Output:- [1,87,21,10,33,2,100,45,98,22] (It may be any randon list but with same elements)\n",
    "\n",
    "import random\n",
    "print(\"Enter the numbers for the list. If you want to exit then type 'exitY' in input\")\n",
    "lst=[]\n",
    "while True:\n",
    "    inp=input(\"Enter the list values:\")\n",
    "    if inp.lower()==\"exity\":\n",
    "        break\n",
    "    else:\n",
    "        lst.append(eval(inp))\n",
    "lst=random.sample(lst,len(lst))\n",
    "print(lst)"
   ]
  }
 ],
 "metadata": {
  "colab": {
   "name": "List_Assignment.ipynb",
   "provenance": []
  },
  "kernelspec": {
   "display_name": "Python 3",
   "language": "python",
   "name": "python3"
  },
  "language_info": {
   "codemirror_mode": {
    "name": "ipython",
    "version": 3
   },
   "file_extension": ".py",
   "mimetype": "text/x-python",
   "name": "python",
   "nbconvert_exporter": "python",
   "pygments_lexer": "ipython3",
   "version": "3.8.8"
  }
 },
 "nbformat": 4,
 "nbformat_minor": 1
}
