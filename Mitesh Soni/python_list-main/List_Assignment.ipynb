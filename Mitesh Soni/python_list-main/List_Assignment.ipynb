{
 "cells": [
  {
   "cell_type": "code",
   "execution_count": 5,
   "metadata": {
    "id": "gtlAv2oq9yzd"
   },
   "outputs": [
    {
     "name": "stdout",
     "output_type": "stream",
     "text": [
      "Enter how many numbers to get addition for:2\n",
      "Enter the number10\n",
      "Enter the number20\n",
      "Output =  30\n"
     ]
    }
   ],
   "source": [
    "#Write a Python program to find the sum of all elements in a list using loop.\n",
    "#Input:- [10,20,30,40]\n",
    "#Output:- 100\n",
    "n = int(input('Enter how many numbers to get addition for:'))\n",
    "ls = []\n",
    "v = 0\n",
    "for i in range(n):\n",
    "    inp = int(input('Enter the number'))\n",
    "    ls.append(inp)\n",
    "for j in ls:\n",
    "    v +=j\n",
    "print(\"Output = \",v)"
   ]
  },
  {
   "cell_type": "code",
   "execution_count": 7,
   "metadata": {
    "id": "gTbA8psa93Y_"
   },
   "outputs": [
    {
     "name": "stdout",
     "output_type": "stream",
     "text": [
      "Enter how many numbers to get addition for:4\n",
      "Enter the number10\n",
      "Enter the number20\n",
      "Enter the number30\n",
      "Enter the number40\n",
      "Output =  240000\n"
     ]
    }
   ],
   "source": [
    "#Write a Python program to find the multiplication of all elements in a list using loop.\n",
    "#Input:- [10,20,30,40]\n",
    "#Output:- 240000\n",
    "\n",
    "n = int(input('Enter how many numbers to get multiplication for:'))\n",
    "ls = []\n",
    "v = 1\n",
    "for i in range(n):\n",
    "    inp = int(input('Enter the number '))\n",
    "    ls.append(inp)\n",
    "for j in ls:\n",
    "    v *= j\n",
    "print(\"Output = \",v)\n"
   ]
  },
  {
   "cell_type": "code",
   "execution_count": 8,
   "metadata": {
    "id": "XBCrEtLN94Lj"
   },
   "outputs": [
    {
     "name": "stdout",
     "output_type": "stream",
     "text": [
      "Enter how many numbers to get largest from:6\n",
      "Enter the number10\n",
      "Enter the number100\n",
      "Enter the number2321\n",
      "Enter the number1\n",
      "Enter the number200\n",
      "Enter the number2\n",
      "Output =  2321\n"
     ]
    }
   ],
   "source": [
    "#Write a Python program to find the largest number from a list using loop.\n",
    "#Input:- [10,100,2321, 1,200,2]\n",
    "#Output:- 2321\n",
    "\n",
    "n = int(input('Enter how many numbers to append to a list to get largest from:'))\n",
    "ls = []\n",
    "for i in range(n):\n",
    "    inp = int(input('Enter the number'))\n",
    "    ls.append(inp)\n",
    "for j in ls:\n",
    "    if j == max(ls):\n",
    "        print('Output = ',j)"
   ]
  },
  {
   "cell_type": "code",
   "execution_count": 15,
   "metadata": {
    "id": "l3paUtbH94Vw"
   },
   "outputs": [
    {
     "name": "stdout",
     "output_type": "stream",
     "text": [
      "Enter how many numbers to get largest from:6\n",
      "Enter the number10\n",
      "Enter the number100\n",
      "Enter the number2321\n",
      "Enter the number1\n",
      "Enter the number200\n",
      "Enter the number2\n",
      "Output =  1\n"
     ]
    }
   ],
   "source": [
    "#Write a Python program to find the smallest number from a list using loop.\n",
    "#Input:- [10,100,2321, 1,200,2]\n",
    "#Output:- 1\n",
    "\n",
    "n = int(input('Enter how many numbers to append to a list get smallest from:'))\n",
    "ls = []\n",
    "for i in range(n):\n",
    "    inp = int(input('Enter the number'))\n",
    "    ls.append(inp)\n",
    "for j in ls:\n",
    "    if j == min(ls):\n",
    "        print('Output = ',j)"
   ]
  },
  {
   "cell_type": "code",
   "execution_count": null,
   "metadata": {
    "id": "JTVgy5VD94cE"
   },
   "outputs": [],
   "source": [
    "#Write a Python program to count the number of strings having length more than 2 and are palindrome in a list using loop.\n",
    "#Input:- ['ab', 'abc', 'aba', 'xyz', '1991']\n",
    "#Output:- 2\n",
    "\n",
    "n = int(input('Enter how many numbers to append to a list get smallest from:'))\n",
    "ls = []\n",
    "v = 0\n",
    "for i in range(n):\n",
    "    inp = int(input('Enter the number'))\n",
    "    ls.append(inp)\n",
    "for j in ls:\n",
    "    if j == min(ls):\n",
    "        print('Output = ',j)"
   ]
  },
  {
   "cell_type": "code",
   "execution_count": 16,
   "metadata": {
    "id": "xs-ZGJbJ94gr"
   },
   "outputs": [
    {
     "name": "stdout",
     "output_type": "stream",
     "text": [
      "Enter how many numbers to append to a list get ascending order:6\n",
      "Enter the number3\n",
      "Enter the number1\n",
      "Enter the number5\n",
      "Enter the number2\n",
      "Enter the number3\n",
      "Enter the number9\n",
      "[1, 2, 3, 3, 5, 9]\n"
     ]
    }
   ],
   "source": [
    "#Write a Python program to sort a list in ascending order using loop.\n",
    "#Input:- [100,10,1,298,65,483,49876,2,80,9,9213]\n",
    "#Output:- [1,2,9,10,65,80,100,298,483,9213,49876]\n",
    "\n",
    "n = int(input('Enter how many numbers to append to a list get ascending order:'))\n",
    "ls = []\n",
    "for i in range(n):\n",
    "    inp = int(input('Enter the number'))\n",
    "    ls.append(inp)\n",
    "    ls.sort()\n",
    "print(ls)\n"
   ]
  },
  {
   "cell_type": "code",
   "execution_count": 35,
   "metadata": {
    "id": "VhKQJizZ94kg"
   },
   "outputs": [
    {
     "name": "stdout",
     "output_type": "stream",
     "text": [
      "[(9, 1), (2, 3), (5, 4), (5, 5), (7, 6), (5, 9)]\n"
     ]
    }
   ],
   "source": [
    "#Write a Python program to get a sorted list in increasing order of last element in each tuple in a given list using loop.\n",
    "#Input:- [(5,4),(9,1),(2,3),(5,9),(7,6),(5,5)]\n",
    "#output:- [(9,1),(2,3),(5,4),(5,5),(7,6),(5,9)]\n",
    "\n",
    "ls = [(5,4),(9,1),(2,3),(5,9),(7,6),(5,5)]\n",
    "output = []\n",
    "output1 = []\n",
    "for i in ls:\n",
    "    i = list(i)\n",
    "    i[0],i[1] = i[1],i[0]\n",
    "    output.append(i)\n",
    "    output.sort()\n",
    "for j in output:\n",
    "        j[0],j[1] = j[1],j[0]\n",
    "        j = tuple(j)\n",
    "        output1.append(j)\n",
    "print(output1)\n",
    "        \n",
    "  \n",
    "\n"
   ]
  },
  {
   "cell_type": "code",
   "execution_count": 116,
   "metadata": {
    "id": "YJrCLYp694n_"
   },
   "outputs": [
    {
     "data": {
      "text/plain": [
       "[10, 1, 11, 29, 876, 768, 92]"
      ]
     },
     "execution_count": 116,
     "metadata": {},
     "output_type": "execute_result"
    }
   ],
   "source": [
    "#Write a Python program to remove fuplicate element from a list using loop.\n",
    "#Input:- [10,1,11,1,29,876,768,10,11,1,92,29,876]\n",
    "#Output:- [10,1,11,29,876,768,92]\n",
    "\n",
    "ls = [10,1,11,1,29,876,768,10,11,1,92,29,876]\n",
    "output = []\n",
    "for i in ls:\n",
    "    if i not in output:\n",
    "        output.append(i)\n",
    "output"
   ]
  },
  {
   "cell_type": "code",
   "execution_count": 118,
   "metadata": {
    "id": "koYe4YCu94rh"
   },
   "outputs": [
    {
     "name": "stdout",
     "output_type": "stream",
     "text": [
      "List is not empty\n"
     ]
    }
   ],
   "source": [
    "#Write a Python program to check a list is empty or not?\n",
    "#Input:- []\n",
    "#Output:- List is empty\n",
    "#Input:- [10,20,30]\n",
    "#Output:- List is not empty\n",
    "\n",
    "ls = []\n",
    "if len(ls) == 0:\n",
    "    print('List is empty')\n",
    "else:\n",
    "    print('List is not empty')\n",
    "\n",
    "\n"
   ]
  },
  {
   "cell_type": "code",
   "execution_count": 130,
   "metadata": {
    "id": "mES1WANa94u5"
   },
   "outputs": [
    {
     "name": "stdout",
     "output_type": "stream",
     "text": [
      "[10, 10.2, (10+20j), 'Python', [10, 20], (10, 20)]\n"
     ]
    }
   ],
   "source": [
    "#Write a Python program to copy a list using loop.\n",
    "#inp_lst = [10,10.20,10+20j, 'Python', [10,20], (10,20)]\n",
    "#out_lst = [10,10.20,10+20j, 'Python', [10,20], (10,20)]\n",
    "\n",
    "inplist = [10,10.20,10+20j, 'Python', [10,20], (10,20)]\n",
    "outputlist = []\n",
    "if len(inplist) !=0:\n",
    "    \n",
    "    for i in inplist:\n",
    "        outputlist.append(i)\n",
    "    print(outputlist)\n",
    "else:\n",
    "    print('Empty list cant be copied')\n",
    "    \n"
   ]
  },
  {
   "cell_type": "code",
   "execution_count": 132,
   "metadata": {
    "id": "CpBh31WO94yi"
   },
   "outputs": [
    {
     "name": "stdout",
     "output_type": "stream",
     "text": [
      "Enter the string: How much wood would a woodchuck chuck if a woodchuck could chuck woo\n",
      "['much', 'wood', 'would', 'woodchuck', 'chuck', 'could']\n"
     ]
    }
   ],
   "source": [
    "#Write a Python program to find the list of words that are longer than or equal to 4 from a given string.\n",
    "#Input:- 'How much wood would a woodchuck chuck if a woodchuck could chuck wood'\n",
    "#Output:- ['much', 'wood', 'would', 'woodchuck', 'chuck', 'could']\n",
    "#Note:- Duplicate should be avoided.\n",
    "\n",
    "inp = input('Enter the string: ')\n",
    "output = []\n",
    "ls = inp.split(\" \")\n",
    "for i in ls:\n",
    "    if len(i) >= 4:\n",
    "        if i not in output:\n",
    "            output.append(i)\n",
    "print(output)"
   ]
  },
  {
   "cell_type": "code",
   "execution_count": 149,
   "metadata": {
    "id": "YVfj0fgZ9416"
   },
   "outputs": [
    {
     "name": "stdout",
     "output_type": "stream",
     "text": [
      "Enter the values with out spaces and seperated with comma1,2,3,m,n,0,p\n",
      "Enter the values with out spaces and seperated with comma1,m,0,r,t,u,y,l\n",
      "True\n"
     ]
    }
   ],
   "source": [
    "#Write a Python program which takes two list as input and returns True if they have at least 3 common elements.\n",
    "#inp_lst1 = [10,20,'Python', 10.20, 10+20j, [10,20,30], (10,20,30)]\n",
    "#inp_lst2 = [(10,20,30),1,20+3j,100.2, 10+20j, [10,20,30],'Python']\n",
    "#Output:- True\n",
    "\n",
    "inp1 = input('Enter the values with out spaces and seperated with comma').split(\",\")\n",
    "inp2 = input('Enter the values with out spaces and seperated with comma').split(\",\")\n",
    "count = 0\n",
    "for i in inp1:\n",
    "     if i in inp2:\n",
    "        count+=1\n",
    "if count >=3:\n",
    "    \n",
    "    print(True)\n",
    "else:\n",
    "    print(False)"
   ]
  },
  {
   "cell_type": "code",
   "execution_count": null,
   "metadata": {
    "id": "7vwc3pjR945O"
   },
   "outputs": [],
   "source": [
    "#Write a Python program to create a 4X4 2D matrix with below elements using loop and list comprehension both.\n",
    "#Output:- [[0,0,0,0],[0,1,2,3],[0,2,4,6],[0,3,6,9]]\n",
    "\n",
    "\n"
   ]
  },
  {
   "cell_type": "code",
   "execution_count": null,
   "metadata": {
    "id": "Pxafor84948b"
   },
   "outputs": [],
   "source": [
    "#Write a Python program to create a 3X4X6 3D matrix wiith below elements using loop\n",
    "#Output:- \n",
    "# [\n",
    "#     [[0,0,0,0,0,0],[0,0,0,0,0,0],[0,0,0,0,0,0],[0,0,0,0,0,0]],\n",
    "#     [[0,0,0,0,0,0],[1,1,1,1,1,1],[2,2,2,2,2,2],[3,3,3,3,3,3]],\n",
    "#     [[0,0,0,0,0,0],[2,2,2,2,2,2],[4,4,4,4,4,4],[6,6,6,6,6,6]]\n",
    "# ]\n",
    "\n",
    "\n"
   ]
  },
  {
   "cell_type": "code",
   "execution_count": 183,
   "metadata": {
    "id": "lYNv8gk794_p"
   },
   "outputs": [
    {
     "name": "stdout",
     "output_type": "stream",
     "text": [
      "Enter the no. space seperated10,21,22,98,87,45,33,1,2,100\n",
      "[21, 87, 45, 33, 1]\n"
     ]
    }
   ],
   "source": [
    "#Write a Python program which takes a list of numbers as input and prints a new list after removing even numbers from it.\n",
    "# Input:- [10,21,22,98,87,45,33,1,2,100]\n",
    "#Output:- [21,87,45,33,1]\n",
    "\n",
    "inp = input(\"Enter the no. comma seperated\").split(\",\")\n",
    "inp1 = list(map(int,inp))\n",
    "inp2 = []\n",
    "for i in inp1:\n",
    "    if (i%2) != 0:\n",
    "        inp2.append(i)\n",
    "print(inp2)\n"
   ]
  },
  {
   "cell_type": "code",
   "execution_count": 187,
   "metadata": {
    "id": "3BaCb-rB95B7"
   },
   "outputs": [
    {
     "name": "stdout",
     "output_type": "stream",
     "text": [
      "Enter the no. comma seperated10,21,22,98,87,45,33,1,2,100\n",
      "[21, 98, 22, 100, 33, 87, 1, 10, 45, 2]\n"
     ]
    }
   ],
   "source": [
    "#Write a Python program which takes a list from the user and prints it after reshuffling the elements of the list.\n",
    "# Input:- [10,21,22,98,87,45,33,1,2,100]\n",
    "#Output:- [1,87,21,10,33,2,100,45,98,22] (It may be any randon list but with same elements)\n",
    "import random\n",
    "inp = input(\"Enter the no. comma seperated\").split(\",\")\n",
    "inp1 = list(map(int,inp))\n",
    "random.shuffle(inp1)\n",
    "print(inp1)"
   ]
  },
  {
   "cell_type": "code",
   "execution_count": null,
   "metadata": {},
   "outputs": [],
   "source": []
  }
 ],
 "metadata": {
  "colab": {
   "name": "List_Assignment.ipynb",
   "provenance": []
  },
  "kernelspec": {
   "display_name": "Python 3",
   "language": "python",
   "name": "python3"
  },
  "language_info": {
   "codemirror_mode": {
    "name": "ipython",
    "version": 3
   },
   "file_extension": ".py",
   "mimetype": "text/x-python",
   "name": "python",
   "nbconvert_exporter": "python",
   "pygments_lexer": "ipython3",
   "version": "3.8.5"
  }
 },
 "nbformat": 4,
 "nbformat_minor": 1
}
