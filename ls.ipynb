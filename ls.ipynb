{
 "cells": [
  {
   "cell_type": "code",
   "execution_count": null,
   "id": "d248f5fa",
   "metadata": {},
   "outputs": [],
   "source": []
  },
  {
   "cell_type": "code",
   "execution_count": null,
   "id": "20e30e89",
   "metadata": {},
   "outputs": [],
   "source": []
  },
  {
   "cell_type": "code",
   "execution_count": 2,
   "id": "03e39470",
   "metadata": {},
   "outputs": [
    {
     "name": "stdout",
     "output_type": "stream",
     "text": [
      "100\n"
     ]
    }
   ],
   "source": [
    "Input=[10,20,30,40]\n",
    "n=0\n",
    "i=0\n",
    "for i in range(len(Input)):\n",
    "    n=n+Input[i] # sum\n",
    "\n",
    "print(n)\n"
   ]
  },
  {
   "cell_type": "code",
   "execution_count": 3,
   "id": "45464536",
   "metadata": {},
   "outputs": [
    {
     "name": "stdout",
     "output_type": "stream",
     "text": [
      "240000\n"
     ]
    }
   ],
   "source": [
    "Input=[10,20,30,40]\n",
    "n=1\n",
    "i=0\n",
    "for i in range(len(Input)):\n",
    "    n=n*Input[i] # product\n",
    "\n",
    "print(n)"
   ]
  },
  {
   "cell_type": "code",
   "execution_count": 4,
   "id": "c93b24e0",
   "metadata": {},
   "outputs": [
    {
     "name": "stdout",
     "output_type": "stream",
     "text": [
      "2321\n"
     ]
    }
   ],
   "source": [
    "# largest number from a list using loop.\n",
    "Input=[10,100,2321, 1,200,2]\n",
    "i=1\n",
    "temp=Input[0]\n",
    "\n",
    "for i in range(len(Input)):\n",
    "    if temp<Input[i]:\n",
    "        temp=Input[i]\n",
    "    i+=1\n",
    "print(temp)"
   ]
  },
  {
   "cell_type": "code",
   "execution_count": 5,
   "id": "446dec73",
   "metadata": {},
   "outputs": [
    {
     "name": "stdout",
     "output_type": "stream",
     "text": [
      "1\n"
     ]
    }
   ],
   "source": [
    "#smallest number from a list using loop.\n",
    "Input=[10,100,2321, 1,200,2]\n",
    "i=1\n",
    "temp=Input[0]\n",
    "for i in range(len(Input)):\n",
    "    if temp>Input[i]:\n",
    "        temp=Input[i]\n",
    "    i+=1\n",
    "print(temp)"
   ]
  },
  {
   "cell_type": "code",
   "execution_count": 6,
   "id": "003045f8",
   "metadata": {},
   "outputs": [
    {
     "name": "stdout",
     "output_type": "stream",
     "text": [
      "2\n"
     ]
    }
   ],
   "source": [
    "#len>2,are palin\n",
    "Input= ['ab', 'abc', 'aba', 'xyz', '1991']\n",
    "count=0\n",
    "for i in Input:\n",
    "    if len(i) > 2 and (i==i[: : -1]):\n",
    "        count=count+1\n",
    "print(count)"
   ]
  },
  {
   "cell_type": "code",
   "execution_count": 7,
   "id": "d51ce0a0",
   "metadata": {},
   "outputs": [
    {
     "name": "stdout",
     "output_type": "stream",
     "text": [
      "[1, 2, 9, 10, 65, 80, 100, 298, 483, 9213, 49876]\n"
     ]
    }
   ],
   "source": [
    "##sort\n",
    "Input=[100,10,1,298,65,483,49876,2,80,9,9213]\n",
    "#Output:- [1,2,9,10,65,80,100,298,483,9213,49876]\n",
    "\n",
    "for i in range(0,len(Input)):\n",
    "    for j in range(i+1,len(Input)):\n",
    "        if Input[i]>Input[j]:\n",
    "            temp=Input[i]\n",
    "            Input[i]=Input[j]\n",
    "            Input[j]=temp\n",
    "print(Input)"
   ]
  },
  {
   "cell_type": "code",
   "execution_count": 8,
   "id": "4caec05c",
   "metadata": {},
   "outputs": [
    {
     "name": "stdout",
     "output_type": "stream",
     "text": [
      "[(9, 1), (2, 3), (5, 4), (5, 5), (7, 6), (5, 9)]\n"
     ]
    }
   ],
   "source": [
    "#sorted list in increasing order of last element in each tuple in a given list using loop.\n",
    "Input=[(5,4),(9,1),(2,3),(5,9),(7,6),(5,5)]\n",
    "temp = 0\n",
    "\n",
    "for i in range(0,len(Input)):\n",
    "    for j in range(i +1, len(Input)):\n",
    "        if (Input[i][1] > Input[j][1]):\n",
    "            temp = Input[i]\n",
    "            Input[i] = Input[j]\n",
    "            Input[j] = temp\n",
    "            \n",
    "print(Input)"
   ]
  },
  {
   "cell_type": "code",
   "execution_count": 9,
   "id": "38ab343c",
   "metadata": {},
   "outputs": [
    {
     "name": "stdout",
     "output_type": "stream",
     "text": [
      "[10, 1, 11, 29, 876, 768, 92]\n"
     ]
    }
   ],
   "source": [
    "####remove duplicate element\n",
    "list = [10,1,11,1,29,876,768,10,11,1,92,29,876]\n",
    "nodup_list = []\n",
    "for each in list :\n",
    "    if each not in nodup_list :\n",
    "        nodup_list.append(each)\n",
    "print(nodup_list)"
   ]
  },
  {
   "cell_type": "code",
   "execution_count": 10,
   "id": "bc81b4d8",
   "metadata": {},
   "outputs": [
    {
     "name": "stdout",
     "output_type": "stream",
     "text": [
      "list is empty\n"
     ]
    }
   ],
   "source": [
    "###empty list\n",
    "Input = []\n",
    "#Output:- List is empty\n",
    "Input1 = [10,20,30]\n",
    "#Output:- List is not empty\n",
    "if len(Input) == 0:\n",
    "    print(\"list is empty\")\n",
    "else:\n",
    "    print(\"not empty\" )"
   ]
  },
  {
   "cell_type": "code",
   "execution_count": 11,
   "id": "684a1dc4",
   "metadata": {},
   "outputs": [
    {
     "name": "stdout",
     "output_type": "stream",
     "text": [
      "[10, 10.2, (10+20j), 'Python', [10, 20], (10, 20)]\n"
     ]
    }
   ],
   "source": [
    "#copy list\n",
    "inp_lst = [10,10.20,10+20j, 'Python', [10,20], (10,20)]\n",
    "#out_lst = [10,10.20,10+20j, 'Python', [10,20], (10,20)]\n",
    "out_lst=[]\n",
    "for i in inp_lst:\n",
    "    out_lst.append(i)\n",
    "print(out_lst)\n"
   ]
  },
  {
   "cell_type": "code",
   "execution_count": 12,
   "id": "f786126b",
   "metadata": {},
   "outputs": [
    {
     "name": "stdout",
     "output_type": "stream",
     "text": [
      "True\n"
     ]
    }
   ],
   "source": [
    "####atleast 3 common elements    \n",
    "inp_lst1 = [10,20,'Python', 10.20, 10+20j, [10,20,30], (10,20,30)]\n",
    "inp_lst2 = [(10,20,30),1,20+3j,100.2, 10+20j, [10,20,30],'Python']\n",
    "\n",
    "count=0\n",
    "for i in inp_lst1:\n",
    "    for j in inp_lst2:\n",
    "        count+=1\n",
    "if count>=3:\n",
    "    print(True)"
   ]
  },
  {
   "cell_type": "code",
   "execution_count": 13,
   "id": "13c173a0",
   "metadata": {},
   "outputs": [
    {
     "name": "stdout",
     "output_type": "stream",
     "text": [
      "True\n"
     ]
    },
    {
     "data": {
      "text/plain": [
       "[[0, 0, 0, 0], [0, 1, 2, 3], [0, 2, 4, 6], [0, 3, 6, 9]]"
      ]
     },
     "execution_count": 13,
     "metadata": {},
     "output_type": "execute_result"
    }
   ],
   "source": [
    "# 4*4 matrix\n",
    "ls = []\n",
    "for i in range(0,4):\n",
    "    ls.append([j*i for j in range(0,4)])\n",
    "cnt=0\n",
    "for i in  inp_lst1:\n",
    "    if i in inp_lst2:\n",
    "        cnt+=1\n",
    "    if cnt == 3 :\n",
    "        print(True)\n",
    "Input = []\n",
    "for i in range(4):\n",
    "        Input.append([j*i for j in range(4)])\n",
    "Input"
   ]
  },
  {
   "cell_type": "code",
   "execution_count": 14,
   "id": "5f2d66d0",
   "metadata": {},
   "outputs": [
    {
     "data": {
      "text/plain": [
       "[2, 1, 33, 21, 100, 22, 87, 98, 45, 10]"
      ]
     },
     "execution_count": 14,
     "metadata": {},
     "output_type": "execute_result"
    }
   ],
   "source": [
    "#print list after reshuffling the elements of the list.\n",
    "#Output:- [1,87,21,10,33,2,100,45,98,22]\n",
    "import random\n",
    "Input=[10,21,22,98,87,45,33,1,2,100]\n",
    "random.shuffle(Input)\n",
    "Input"
   ]
  },
  {
   "cell_type": "code",
   "execution_count": null,
   "id": "3acbea6b",
   "metadata": {},
   "outputs": [],
   "source": []
  }
 ],
 "metadata": {
  "kernelspec": {
   "display_name": "Python 3",
   "language": "python",
   "name": "python3"
  },
  "language_info": {
   "codemirror_mode": {
    "name": "ipython",
    "version": 3
   },
   "file_extension": ".py",
   "mimetype": "text/x-python",
   "name": "python",
   "nbconvert_exporter": "python",
   "pygments_lexer": "ipython3",
   "version": "3.8.8"
  }
 },
 "nbformat": 4,
 "nbformat_minor": 5
}
