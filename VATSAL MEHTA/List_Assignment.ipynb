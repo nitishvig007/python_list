{
 "cells": [
  {
   "cell_type": "code",
   "execution_count": 2,
   "metadata": {
    "id": "gtlAv2oq9yzd"
   },
   "outputs": [
    {
     "name": "stdout",
     "output_type": "stream",
     "text": [
      "100\n"
     ]
    }
   ],
   "source": [
    "#Write a Python program to find the sum of all elements in a list using loop.\n",
    "#Input:- [10,20,30,40]\n",
    "#Output:- 100\n",
    "\n",
    "ls = [10,20,30,40]\n",
    "s=0\n",
    "for i in ls:\n",
    "    s+= i\n",
    "print(s)\n"
   ]
  },
  {
   "cell_type": "code",
   "execution_count": 4,
   "metadata": {
    "id": "gTbA8psa93Y_"
   },
   "outputs": [
    {
     "name": "stdout",
     "output_type": "stream",
     "text": [
      "240000\n"
     ]
    }
   ],
   "source": [
    "#Write a Python program to find the multiplication of all elements in a list using loop.\n",
    "#Input:- [10,20,30,40]\n",
    "#Output:- 240000\n",
    "\n",
    "\n",
    "ls = [10,20,30,40]\n",
    "s=1\n",
    "for i in ls:\n",
    "    s*= i\n",
    "print(s)\n"
   ]
  },
  {
   "cell_type": "code",
   "execution_count": 16,
   "metadata": {
    "id": "XBCrEtLN94Lj"
   },
   "outputs": [
    {
     "name": "stdout",
     "output_type": "stream",
     "text": [
      "40\n",
      "9000\n"
     ]
    }
   ],
   "source": [
    "#Write a Python program to find the largest number from a list using loop.\n",
    "Input= [9000,100,2321, 1,200,2]\n",
    "#Output:- 2321\n",
    "\n",
    "mx = 0\n",
    "\n",
    "\n",
    "ls = [10,20,30,40]\n",
    "\n",
    "for i in ls:\n",
    "    if i > mx:\n",
    "        mx = i\n",
    "print(mx)\n",
    "\n",
    "\n",
    "n = Input[0] \n",
    "for i in Input:\n",
    "    if i > n:\n",
    "        n=i\n",
    "print(n)\n"
   ]
  },
  {
   "cell_type": "code",
   "execution_count": 130,
   "metadata": {
    "id": "l3paUtbH94Vw"
   },
   "outputs": [
    {
     "name": "stdout",
     "output_type": "stream",
     "text": [
      "1\n"
     ]
    }
   ],
   "source": [
    "#Write a Python program to find the smallest number from a list using loop.\n",
    "#Input:- [10,100,2321, 1,200,2]\n",
    "#Output:- 1\n",
    "\n",
    "s = ls[0]\n",
    "for i in ls:\n",
    "    if i < s:\n",
    "        s=i\n",
    "print(s)\n"
   ]
  },
  {
   "cell_type": "code",
   "execution_count": 128,
   "metadata": {
    "id": "JTVgy5VD94cE"
   },
   "outputs": [
    {
     "name": "stdout",
     "output_type": "stream",
     "text": [
      "2\n"
     ]
    }
   ],
   "source": [
    "#Write a Python program to count the number of strings having length more than 2 and are palindrome in a list using loop.\n",
    "Input = ['ab', 'abc', 'aba', 'xyz', '1991']\n",
    "#Output:- 2\n",
    "cnt = 0\n",
    "for i in Input:\n",
    "    if len(i) > 2 and i == i[::-1]:\n",
    "        cnt+=1\n",
    "print(cnt)"
   ]
  },
  {
   "cell_type": "code",
   "execution_count": 25,
   "metadata": {
    "id": "xs-ZGJbJ94gr"
   },
   "outputs": [
    {
     "name": "stdout",
     "output_type": "stream",
     "text": [
      "--- 0.00033354759216308594 seconds ---\n"
     ]
    }
   ],
   "source": [
    "#Write a Python program to sort a list in ascending order using loop.\n",
    "#Input:- [100,10,1,298,65,483,49876,2,80,9,9213]\n",
    "#Output:- [1,2,9,10,65,80,100,298,483,9213,49876]\n",
    "import time\n",
    "start_time = time.time()\n",
    "\n",
    "ls = [100,10,1,298,65,483,49876,2,80,9,9213]\n",
    "\n",
    "for j in range(len(ls)):\n",
    "    for i in range(len(ls)):\n",
    "        if i != len(ls)-1:\n",
    "            if ls[i] > ls[i+1]:\n",
    "                ls[i],ls[i+1] = ls[i+1],ls[i]\n",
    "\n",
    "\n",
    "#print(\"--- %s seconds ---\" % (time.time() - start_time))"
   ]
  },
  {
   "cell_type": "code",
   "execution_count": 42,
   "metadata": {},
   "outputs": [
    {
     "name": "stdout",
     "output_type": "stream",
     "text": [
      "Elements of original array: \n",
      "5 2 8 7 1 [1, 2, 5, 7, 8]\n"
     ]
    }
   ],
   "source": [
    "#Initialize array   \n",
    "import time\n",
    "start_time = time.time()\n",
    "arr = [5, 2, 8, 7, 1]     \n",
    "temp = 0\n",
    "     \n",
    "#Displaying elements of original array    \n",
    "print(\"Elements of original array: \")   \n",
    "for i in range(0, len(arr)):    \n",
    "    print(arr[i], end=\" \") \n",
    "     \n",
    "#Sort the array in ascending order    \n",
    "for i in range(0, len(arr)):\n",
    "    #print(arr)\n",
    "    \n",
    "    for j in range(i+1, len(arr)):    \n",
    "        if(arr[i] > arr[j]):    \n",
    "            arr[i],arr[j] = arr[j],arr[i]\n",
    "     \n",
    "print(arr)\n",
    "#print(\"--- %s seconds ---\" % (time.time() - start_time))"
   ]
  },
  {
   "cell_type": "code",
   "execution_count": 63,
   "metadata": {
    "id": "VhKQJizZ94kg",
    "scrolled": true
   },
   "outputs": [
    {
     "name": "stdout",
     "output_type": "stream",
     "text": [
      "[5, 4]\n",
      "Outside IF 4 : 1\n",
      "4 : 1\n",
      "Outside IF 1 : 4\n",
      "Outside IF 1 : 4\n",
      "Outside IF 1 : 4\n",
      "Outside IF 1 : 4\n",
      "[5, 4]\n",
      "Outside IF 4 : 3\n",
      "4 : 3\n",
      "Outside IF 3 : 4\n",
      "Outside IF 3 : 4\n",
      "Outside IF 3 : 4\n",
      "Outside IF 3 : 4\n",
      "[5, 4]\n",
      "Outside IF 4 : 9\n",
      "Outside IF 4 : 9\n",
      "Outside IF 4 : 9\n",
      "Outside IF 4 : 9\n",
      "Outside IF 4 : 9\n",
      "[5, 9]\n",
      "Outside IF 9 : 6\n",
      "9 : 6\n",
      "Outside IF 6 : 9\n",
      "Outside IF 6 : 9\n",
      "Outside IF 6 : 9\n",
      "Outside IF 6 : 9\n",
      "[5, 9]\n",
      "Outside IF 9 : 5\n",
      "9 : 5\n",
      "Outside IF 5 : 9\n",
      "Outside IF 5 : 9\n",
      "Outside IF 5 : 9\n",
      "Outside IF 5 : 9\n",
      "[[9, 1], [2, 3], [5, 4], [7, 6], [5, 5], [5, 9]]\n"
     ]
    }
   ],
   "source": [
    "#Write a Python program to get a sorted list in increasing order of last element in each tuple in a given list using loop.\n",
    "Input = [(5,4),(9,1),(2,3),(5,9),(7,6),(5,5)]\n",
    "#output:- [(9,1),(2,3),(5,4),(5,5),(7,6),(5,9)]\n",
    "Input = [[5,4],[9,1],[2,3],[5,9],[7,6],[5,5]]\n",
    "#Input.sort(key = lambda x: x[-1]) \n",
    "#print(Input)\n",
    "\n",
    "for i in range(len(Input)-1):\n",
    "    print(Input[i])\n",
    "    for j in range(0,len(Input)-1):\n",
    "        #print(Input[i][-1])\n",
    "        print(\"Outside IF\",Input[i][-1],':',Input[i+1][-1])\n",
    "        if Input[i][-1] > Input[i+1][-1]:\n",
    "            print(Input[i][-1],':',Input[i+1][-1])\n",
    "            Input[i],Input[i+1] = Input[i+1],Input[i]\n",
    "print(Input)\n"
   ]
  },
  {
   "cell_type": "code",
   "execution_count": null,
   "metadata": {},
   "outputs": [],
   "source": [
    "# Bubble, selection, Quick, Merge"
   ]
  },
  {
   "cell_type": "code",
   "execution_count": 65,
   "metadata": {
    "id": "YJrCLYp694n_",
    "scrolled": true
   },
   "outputs": [
    {
     "data": {
      "text/plain": [
       "[768, 1, 10, 11, 876, 92, 29]"
      ]
     },
     "execution_count": 65,
     "metadata": {},
     "output_type": "execute_result"
    }
   ],
   "source": [
    "#Write a Python program to remove duplicate element from a list using loop.\n",
    "Input =  [10,1,11,1,29,876,768,10,11,1,92,29,876]\n",
    "#Output:- [10,1,11,29,876,768,92]\n",
    "\n",
    "# a = []\n",
    "# for i in Input:\n",
    "#     if i not in a :\n",
    "#         (a.append(i))\n",
    "# print(a)\n",
    "\n",
    "list(set(Input))\n"
   ]
  },
  {
   "cell_type": "code",
   "execution_count": 66,
   "metadata": {
    "id": "koYe4YCu94rh"
   },
   "outputs": [
    {
     "name": "stdout",
     "output_type": "stream",
     "text": [
      "List is empty\n"
     ]
    }
   ],
   "source": [
    "#Write a Python program to check a list is empty or not?\n",
    "#Input:- []\n",
    "#Output:- List is empty\n",
    "#Input:- [10,20,30]\n",
    "#Output:- List is not empty\n",
    "\n",
    "ls  = []\n",
    "if len(ls) == 0:\n",
    "    print('List is empty')\n",
    "else:\n",
    "    print('List is not empty')\n"
   ]
  },
  {
   "cell_type": "code",
   "execution_count": 68,
   "metadata": {
    "id": "mES1WANa94u5"
   },
   "outputs": [
    {
     "data": {
      "text/plain": [
       "[10, 10.2, (10+20j), 'Python', [10, 20], (10, 20)]"
      ]
     },
     "execution_count": 68,
     "metadata": {},
     "output_type": "execute_result"
    }
   ],
   "source": [
    "#Write a Python program to copy a list using loop.\n",
    "inp_lst = [10,10.20,10+20j, 'Python', [10,20], (10,20)]\n",
    "#out_lst = [10,10.20,10+20j, 'Python', [10,20], (10,20)]\n",
    "out_lst = []\n",
    "for i in inp_lst:\n",
    "    out_lst.append(i)\n",
    "out_lst"
   ]
  },
  {
   "cell_type": "code",
   "execution_count": 69,
   "metadata": {
    "id": "CpBh31WO94yi",
    "scrolled": true
   },
   "outputs": [
    {
     "data": {
      "text/plain": [
       "['much', 'wood', 'would', 'woodchuck', 'chuck', 'could']"
      ]
     },
     "execution_count": 69,
     "metadata": {},
     "output_type": "execute_result"
    }
   ],
   "source": [
    "#Write a Python program to find the list of words that are longer than or equal to 4 from a given string.\n",
    "Input = 'How much wood would a woodchuck chuck if a woodchuck could chuck wood'\n",
    "#Output:- ['much', 'wood', 'would', 'woodchuck', 'chuck', 'could']\n",
    "#Note:- Duplicate should be avoided.\n",
    "op = []\n",
    "for i in Input.split():\n",
    "    if i not in op and len(i) >= 4:\n",
    "        op.append(i)  \n",
    "op"
   ]
  },
  {
   "cell_type": "code",
   "execution_count": 71,
   "metadata": {
    "id": "YVfj0fgZ9416"
   },
   "outputs": [
    {
     "name": "stdout",
     "output_type": "stream",
     "text": [
      "True\n"
     ]
    }
   ],
   "source": [
    "#Write a Python program which takes two list as input and returns True if they have at least 3 common elements.\n",
    "inp_lst1 = [10,20,'Python', 10.20, 10+20j, [10,20,30], (10,20,30)]\n",
    "inp_lst2 = [(10,20,30),1,20+3j,100.2, 10+20j, [10,20,30],'Python']\n",
    "#Output:- True\n",
    "cnt=0\n",
    "for i in inp_lst1:\n",
    "    if i in inp_lst2:\n",
    "        cnt = cnt + 1\n",
    "    if cnt == 3:\n",
    "        print(True)\n",
    "        break"
   ]
  },
  {
   "cell_type": "code",
   "execution_count": 80,
   "metadata": {
    "id": "7vwc3pjR945O"
   },
   "outputs": [
    {
     "data": {
      "text/plain": [
       "[[0, 0, 0, 0],\n",
       " [0, 1, 2, 3],\n",
       " [0, 2, 4, 6],\n",
       " [0, 3, 6, 9],\n",
       " [0, 0, 0, 0],\n",
       " [0, 1, 2, 3],\n",
       " [0, 2, 4, 6],\n",
       " [0, 3, 6, 9],\n",
       " [0, 0, 0, 0],\n",
       " [0, 1, 2, 3],\n",
       " [0, 2, 4, 6],\n",
       " [0, 3, 6, 9],\n",
       " [0, 0, 0, 0],\n",
       " [0, 1, 2, 3],\n",
       " [0, 2, 4, 6],\n",
       " [0, 3, 6, 9]]"
      ]
     },
     "execution_count": 80,
     "metadata": {},
     "output_type": "execute_result"
    }
   ],
   "source": [
    "#Write a Python program to create a 4X4 2D matrix with below elements using loop and list comprehension both.\n",
    "#Output:- [[0,0,0,0],[0,1,2,3],[0,2,4,6],[0,3,6,9]]\n",
    "ls = []\n",
    "for i in range(4):\n",
    "    ls.append([j*i for j in range(4)])\n",
    "ls"
   ]
  },
  {
   "cell_type": "code",
   "execution_count": 98,
   "metadata": {
    "id": "Pxafor84948b",
    "scrolled": true
   },
   "outputs": [
    {
     "data": {
      "text/plain": [
       "[[[0, 0, 0, 0, 0, 0],\n",
       "  [0, 0, 0, 0, 0, 0],\n",
       "  [0, 0, 0, 0, 0, 0],\n",
       "  [0, 0, 0, 0, 0, 0]],\n",
       " [[0, 0, 0, 0, 0, 0],\n",
       "  [1, 1, 1, 1, 1, 1],\n",
       "  [2, 2, 2, 2, 2, 2],\n",
       "  [3, 3, 3, 3, 3, 3]],\n",
       " [[0, 0, 0, 0, 0, 0],\n",
       "  [2, 2, 2, 2, 2, 2],\n",
       "  [4, 4, 4, 4, 4, 4],\n",
       "  [6, 6, 6, 6, 6, 6]]]"
      ]
     },
     "execution_count": 98,
     "metadata": {},
     "output_type": "execute_result"
    }
   ],
   "source": [
    "#Write a Python program to create a 3X4X6 3D matrix wiith below elements using loop\n",
    "#Output:- \n",
    "# [\n",
    "#     [[0,0,0,0,0,0],[0,0,0,0,0,0],[0,0,0,0,0,0],[0,0,0,0,0,0]],\n",
    "#     [[0,0,0,0,0,0],[1,1,1,1,1,1],[2,2,2,2,2,2],[3,3,3,3,3,3]],\n",
    "#     [[0,0,0,0,0,0],[2,2,2,2,2,2],[4,4,4,4,4,4],[6,6,6,6,6,6]]\n",
    "# ]\n",
    "\n",
    "ls = []\n",
    "ls2 = []\n",
    "for i in range(3):\n",
    "    ls=[]\n",
    "    for j in range(4):\n",
    "        ls.append([j*i]*6)\n",
    "    ls2.append(ls)\n",
    "ls2"
   ]
  },
  {
   "cell_type": "code",
   "execution_count": null,
   "metadata": {},
   "outputs": [],
   "source": []
  },
  {
   "cell_type": "code",
   "execution_count": 99,
   "metadata": {
    "id": "lYNv8gk794_p"
   },
   "outputs": [
    {
     "data": {
      "text/plain": [
       "[21, 87, 45, 33, 1]"
      ]
     },
     "execution_count": 99,
     "metadata": {},
     "output_type": "execute_result"
    }
   ],
   "source": [
    "#Write a Python program which takes a list of numbers as input and prints a new list after removing even numbers from it.\n",
    "Input =  [10,21,22,98,87,45,33,1,2,100]\n",
    "#Output:- [21,87,45,33,1]\n",
    "\n",
    "ls = []\n",
    "for i in Input:\n",
    "    if i%2 != 0:\n",
    "        ls.append(i)\n",
    "        \n",
    "        \n",
    "ls\n",
    "\n",
    "\n"
   ]
  },
  {
   "cell_type": "code",
   "execution_count": 127,
   "metadata": {
    "id": "3BaCb-rB95B7"
   },
   "outputs": [
    {
     "data": {
      "text/plain": [
       "[45, 98, 100, 22, 33, 10, 87, 2, 21, 1]"
      ]
     },
     "execution_count": 127,
     "metadata": {},
     "output_type": "execute_result"
    }
   ],
   "source": [
    "#Write a Python program which takes a list from the user and prints it after reshuffling the elements of the list.\n",
    "Input =  [10,21,22,98,87,45,33,1,2,100]\n",
    "#Output:- [1,87,21,10,33,2,100,45,98,22] (It may be any randon list but with same elements)\n",
    "import random\n",
    "\n",
    "#random.shuffle(Input)\n",
    "#print(Input)\n",
    "\n",
    "# picking number from list\n",
    "# removing that number from list\n",
    "\n",
    "ls = []\n",
    "for i in range(len(Input)):\n",
    "    s = random.choice(Input)\n",
    "    ls.append(s)\n",
    "    Input.remove(s)\n",
    "ls"
   ]
  },
  {
   "cell_type": "code",
   "execution_count": 119,
   "metadata": {},
   "outputs": [],
   "source": []
  },
  {
   "cell_type": "code",
   "execution_count": null,
   "metadata": {},
   "outputs": [],
   "source": []
  },
  {
   "cell_type": "code",
   "execution_count": null,
   "metadata": {},
   "outputs": [],
   "source": []
  }
 ],
 "metadata": {
  "colab": {
   "name": "List_Assignment.ipynb",
   "provenance": []
  },
  "kernelspec": {
   "display_name": "Python 3 (ipykernel)",
   "language": "python",
   "name": "python3"
  },
  "language_info": {
   "codemirror_mode": {
    "name": "ipython",
    "version": 3
   },
   "file_extension": ".py",
   "mimetype": "text/x-python",
   "name": "python",
   "nbconvert_exporter": "python",
   "pygments_lexer": "ipython3",
   "version": "3.8.8"
  }
 },
 "nbformat": 4,
 "nbformat_minor": 1
}
